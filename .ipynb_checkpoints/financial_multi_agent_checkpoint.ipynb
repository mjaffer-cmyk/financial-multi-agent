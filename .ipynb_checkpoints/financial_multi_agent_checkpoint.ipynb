{
  "cells": [
    {
      "cell_type": "code",
      "execution_count": null,
      "id": "166b3dde-1de9-481f-af5d-42fbc5c88558",
      "metadata": {
        "colab": {
          "base_uri": "https://localhost:8080/"
        },
        "id": "166b3dde-1de9-481f-af5d-42fbc5c88558",
        "outputId": "991b886d-d105-4b4e-f1b8-d22ddce1e9d0"
      },
      "outputs": [
        {
          "name": "stdout",
          "output_type": "stream",
          "text": [
            "Requirement already satisfied: langchain in /usr/local/lib/python3.12/dist-packages (0.3.27)\n",
            "Requirement already satisfied: langchain_openai in /usr/local/lib/python3.12/dist-packages (0.3.33)\n",
            "Requirement already satisfied: langchain_community in /usr/local/lib/python3.12/dist-packages (0.3.30)\n",
            "Requirement already satisfied: langgraph in /usr/local/lib/python3.12/dist-packages (0.6.7)\n",
            "Requirement already satisfied: langchain_tavily in /usr/local/lib/python3.12/dist-packages (0.2.11)\n",
            "Requirement already satisfied: langchain_nvidia_ai_endpoints in /usr/local/lib/python3.12/dist-packages (0.3.18)\n",
            "Requirement already satisfied: langchain-core<1.0.0,>=0.3.72 in /usr/local/lib/python3.12/dist-packages (from langchain) (0.3.76)\n",
            "Requirement already satisfied: langchain-text-splitters<1.0.0,>=0.3.9 in /usr/local/lib/python3.12/dist-packages (from langchain) (0.3.11)\n",
            "Requirement already satisfied: langsmith>=0.1.17 in /usr/local/lib/python3.12/dist-packages (from langchain) (0.4.28)\n",
            "Requirement already satisfied: pydantic<3.0.0,>=2.7.4 in /usr/local/lib/python3.12/dist-packages (from langchain) (2.11.9)\n",
            "Requirement already satisfied: SQLAlchemy<3,>=1.4 in /usr/local/lib/python3.12/dist-packages (from langchain) (2.0.43)\n",
            "Requirement already satisfied: requests<3,>=2 in /usr/local/lib/python3.12/dist-packages (from langchain) (2.32.5)\n",
            "Requirement already satisfied: PyYAML>=5.3 in /usr/local/lib/python3.12/dist-packages (from langchain) (6.0.2)\n",
            "Requirement already satisfied: openai<2.0.0,>=1.104.2 in /usr/local/lib/python3.12/dist-packages (from langchain_openai) (1.108.0)\n",
            "Requirement already satisfied: tiktoken<1,>=0.7 in /usr/local/lib/python3.12/dist-packages (from langchain_openai) (0.11.0)\n",
            "Requirement already satisfied: aiohttp<4.0.0,>=3.8.3 in /usr/local/lib/python3.12/dist-packages (from langchain_community) (3.12.15)\n",
            "Requirement already satisfied: tenacity!=8.4.0,<10.0.0,>=8.1.0 in /usr/local/lib/python3.12/dist-packages (from langchain_community) (8.5.0)\n",
            "Requirement already satisfied: dataclasses-json<0.7.0,>=0.6.7 in /usr/local/lib/python3.12/dist-packages (from langchain_community) (0.6.7)\n",
            "Requirement already satisfied: pydantic-settings<3.0.0,>=2.10.1 in /usr/local/lib/python3.12/dist-packages (from langchain_community) (2.10.1)\n",
            "Requirement already satisfied: httpx-sse<1.0.0,>=0.4.0 in /usr/local/lib/python3.12/dist-packages (from langchain_community) (0.4.1)\n",
            "Requirement already satisfied: numpy>=1.26.2 in /usr/local/lib/python3.12/dist-packages (from langchain_community) (2.0.2)\n",
            "Requirement already satisfied: langgraph-checkpoint<3.0.0,>=2.1.0 in /usr/local/lib/python3.12/dist-packages (from langgraph) (2.1.1)\n",
            "Requirement already satisfied: langgraph-prebuilt<0.7.0,>=0.6.0 in /usr/local/lib/python3.12/dist-packages (from langgraph) (0.6.4)\n",
            "Requirement already satisfied: langgraph-sdk<0.3.0,>=0.2.2 in /usr/local/lib/python3.12/dist-packages (from langgraph) (0.2.9)\n",
            "Requirement already satisfied: xxhash>=3.5.0 in /usr/local/lib/python3.12/dist-packages (from langgraph) (3.5.0)\n",
            "Requirement already satisfied: filetype<2.0.0,>=1.2.0 in /usr/local/lib/python3.12/dist-packages (from langchain_nvidia_ai_endpoints) (1.2.0)\n",
            "Requirement already satisfied: aiohappyeyeballs>=2.5.0 in /usr/local/lib/python3.12/dist-packages (from aiohttp<4.0.0,>=3.8.3->langchain_community) (2.6.1)\n",
            "Requirement already satisfied: aiosignal>=1.4.0 in /usr/local/lib/python3.12/dist-packages (from aiohttp<4.0.0,>=3.8.3->langchain_community) (1.4.0)\n",
            "Requirement already satisfied: attrs>=17.3.0 in /usr/local/lib/python3.12/dist-packages (from aiohttp<4.0.0,>=3.8.3->langchain_community) (25.3.0)\n",
            "Requirement already satisfied: frozenlist>=1.1.1 in /usr/local/lib/python3.12/dist-packages (from aiohttp<4.0.0,>=3.8.3->langchain_community) (1.7.0)\n",
            "Requirement already satisfied: multidict<7.0,>=4.5 in /usr/local/lib/python3.12/dist-packages (from aiohttp<4.0.0,>=3.8.3->langchain_community) (6.6.4)\n",
            "Requirement already satisfied: propcache>=0.2.0 in /usr/local/lib/python3.12/dist-packages (from aiohttp<4.0.0,>=3.8.3->langchain_community) (0.3.2)\n",
            "Requirement already satisfied: yarl<2.0,>=1.17.0 in /usr/local/lib/python3.12/dist-packages (from aiohttp<4.0.0,>=3.8.3->langchain_community) (1.20.1)\n",
            "Requirement already satisfied: marshmallow<4.0.0,>=3.18.0 in /usr/local/lib/python3.12/dist-packages (from dataclasses-json<0.7.0,>=0.6.7->langchain_community) (3.26.1)\n",
            "Requirement already satisfied: typing-inspect<1,>=0.4.0 in /usr/local/lib/python3.12/dist-packages (from dataclasses-json<0.7.0,>=0.6.7->langchain_community) (0.9.0)\n",
            "Requirement already satisfied: jsonpatch<2.0,>=1.33 in /usr/local/lib/python3.12/dist-packages (from langchain-core<1.0.0,>=0.3.72->langchain) (1.33)\n",
            "Requirement already satisfied: typing-extensions>=4.7 in /usr/local/lib/python3.12/dist-packages (from langchain-core<1.0.0,>=0.3.72->langchain) (4.15.0)\n",
            "Requirement already satisfied: packaging>=23.2 in /usr/local/lib/python3.12/dist-packages (from langchain-core<1.0.0,>=0.3.72->langchain) (25.0)\n",
            "Requirement already satisfied: ormsgpack>=1.10.0 in /usr/local/lib/python3.12/dist-packages (from langgraph-checkpoint<3.0.0,>=2.1.0->langgraph) (1.10.0)\n",
            "Requirement already satisfied: httpx>=0.25.2 in /usr/local/lib/python3.12/dist-packages (from langgraph-sdk<0.3.0,>=0.2.2->langgraph) (0.28.1)\n",
            "Requirement already satisfied: orjson>=3.10.1 in /usr/local/lib/python3.12/dist-packages (from langgraph-sdk<0.3.0,>=0.2.2->langgraph) (3.11.3)\n",
            "Requirement already satisfied: requests-toolbelt>=1.0.0 in /usr/local/lib/python3.12/dist-packages (from langsmith>=0.1.17->langchain) (1.0.0)\n",
            "Requirement already satisfied: zstandard>=0.23.0 in /usr/local/lib/python3.12/dist-packages (from langsmith>=0.1.17->langchain) (0.25.0)\n",
            "Requirement already satisfied: anyio<5,>=3.5.0 in /usr/local/lib/python3.12/dist-packages (from openai<2.0.0,>=1.104.2->langchain_openai) (4.10.0)\n",
            "Requirement already satisfied: distro<2,>=1.7.0 in /usr/local/lib/python3.12/dist-packages (from openai<2.0.0,>=1.104.2->langchain_openai) (1.9.0)\n",
            "Requirement already satisfied: jiter<1,>=0.4.0 in /usr/local/lib/python3.12/dist-packages (from openai<2.0.0,>=1.104.2->langchain_openai) (0.11.0)\n",
            "Requirement already satisfied: sniffio in /usr/local/lib/python3.12/dist-packages (from openai<2.0.0,>=1.104.2->langchain_openai) (1.3.1)\n",
            "Requirement already satisfied: tqdm>4 in /usr/local/lib/python3.12/dist-packages (from openai<2.0.0,>=1.104.2->langchain_openai) (4.67.1)\n",
            "Requirement already satisfied: annotated-types>=0.6.0 in /usr/local/lib/python3.12/dist-packages (from pydantic<3.0.0,>=2.7.4->langchain) (0.7.0)\n",
            "Requirement already satisfied: pydantic-core==2.33.2 in /usr/local/lib/python3.12/dist-packages (from pydantic<3.0.0,>=2.7.4->langchain) (2.33.2)\n",
            "Requirement already satisfied: typing-inspection>=0.4.0 in /usr/local/lib/python3.12/dist-packages (from pydantic<3.0.0,>=2.7.4->langchain) (0.4.1)\n",
            "Requirement already satisfied: python-dotenv>=0.21.0 in /usr/local/lib/python3.12/dist-packages (from pydantic-settings<3.0.0,>=2.10.1->langchain_community) (1.1.1)\n",
            "Requirement already satisfied: charset_normalizer<4,>=2 in /usr/local/lib/python3.12/dist-packages (from requests<3,>=2->langchain) (3.4.3)\n",
            "Requirement already satisfied: idna<4,>=2.5 in /usr/local/lib/python3.12/dist-packages (from requests<3,>=2->langchain) (3.10)\n",
            "Requirement already satisfied: urllib3<3,>=1.21.1 in /usr/local/lib/python3.12/dist-packages (from requests<3,>=2->langchain) (2.5.0)\n",
            "Requirement already satisfied: certifi>=2017.4.17 in /usr/local/lib/python3.12/dist-packages (from requests<3,>=2->langchain) (2025.8.3)\n",
            "Requirement already satisfied: greenlet>=1 in /usr/local/lib/python3.12/dist-packages (from SQLAlchemy<3,>=1.4->langchain) (3.2.4)\n",
            "Requirement already satisfied: regex>=2022.1.18 in /usr/local/lib/python3.12/dist-packages (from tiktoken<1,>=0.7->langchain_openai) (2024.11.6)\n",
            "Requirement already satisfied: httpcore==1.* in /usr/local/lib/python3.12/dist-packages (from httpx>=0.25.2->langgraph-sdk<0.3.0,>=0.2.2->langgraph) (1.0.9)\n",
            "Requirement already satisfied: h11>=0.16 in /usr/local/lib/python3.12/dist-packages (from httpcore==1.*->httpx>=0.25.2->langgraph-sdk<0.3.0,>=0.2.2->langgraph) (0.16.0)\n",
            "Requirement already satisfied: jsonpointer>=1.9 in /usr/local/lib/python3.12/dist-packages (from jsonpatch<2.0,>=1.33->langchain-core<1.0.0,>=0.3.72->langchain) (3.0.0)\n",
            "Requirement already satisfied: mypy-extensions>=0.3.0 in /usr/local/lib/python3.12/dist-packages (from typing-inspect<1,>=0.4.0->dataclasses-json<0.7.0,>=0.6.7->langchain_community) (1.1.0)\n"
          ]
        }
      ],
      "source": [
        "!pip install langchain langchain_openai langchain_community langgraph langchain_tavily langchain_nvidia_ai_endpoints"
      ]
    },
    {
      "cell_type": "code",
      "execution_count": null,
      "id": "ROGGG_-szB4g",
      "metadata": {
        "id": "ROGGG_-szB4g"
      },
      "outputs": [],
      "source": [
        "#imports\n",
        "from langchain_openai import ChatOpenAI\n",
        "from langgraph.graph import StateGraph, END\n",
        "from langgraph.graph.message import add_messages\n",
        "from langchain_community.tools.tavily_search import TavilySearchResults\n"
      ]
    },
    {
      "cell_type": "code",
      "execution_count": null,
      "id": "KGpL_FtdzDec",
      "metadata": {
        "id": "KGpL_FtdzDec"
      },
      "outputs": [],
      "source": [
        "#state\n",
        "class State(dict):\n",
        "    messages: list"
      ]
    },
    {
      "cell_type": "code",
      "execution_count": null,
      "id": "G-GGHzS9zrG3",
      "metadata": {
        "colab": {
          "base_uri": "https://localhost:8080/"
        },
        "id": "G-GGHzS9zrG3",
        "outputId": "7f2d4f37-ff4d-4f10-abbf-91b3147bbdc9"
      },
      "outputs": [
        {
          "name": "stderr",
          "output_type": "stream",
          "text": [
            "/tmp/ipython-input-4290618003.py:5: DeprecationWarning: The 'max_tokens' parameter is deprecated and will be removed in a future version. Please use 'max_completion_tokens' instead.\n",
            "  llm = ChatNVIDIA(model=LLM_MODEL, temperature=0.6, top_p=0.95, max_tokens=8192, api_key = \"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\")\n",
            "/usr/local/lib/python3.12/dist-packages/langchain_nvidia_ai_endpoints/_common.py:229: UserWarning: Found nvidia/nvidia-nemotron-nano-9b-v2 in available_models, but type is unknown and inference may fail.\n",
            "  warnings.warn(\n"
          ]
        }
      ],
      "source": [
        "import os\n",
        "from langchain_nvidia_ai_endpoints import ChatNVIDIA\n",
        "LLM_MODEL = \"nvidia/nvidia-nemotron-nano-9b-v2\"\n",
        "llm = ChatNVIDIA(model=LLM_MODEL, temperature=0.6, top_p=0.95, max_tokens=8192, api_key = \"XXXXXX\")"
      ]
    },
    {
      "cell_type": "code",
      "execution_count": null,
      "id": "iZoaJyeVzmN3",
      "metadata": {
        "id": "iZoaJyeVzmN3"
      },
      "outputs": [],
      "source": [
        "from langchain_tavily import TavilySearch\n",
        "os.environ[\"TAVILY_API_KEY\"] = \"XXXX\"\n",
        "#Tools\n",
        "search_tool = TavilySearch(max_results=3)\n",
        "tools = [search_tool]"
      ]
    },
    {
      "cell_type": "code",
      "execution_count": null,
      "id": "ZRrxUl4K1cpU",
      "metadata": {
        "colab": {
          "base_uri": "https://localhost:8080/"
        },
        "id": "ZRrxUl4K1cpU",
        "outputId": "4a6e8610-26a0-4b60-d98c-1d199fa1ce6f"
      },
      "outputs": [
        {
          "name": "stderr",
          "output_type": "stream",
          "text": [
            "/usr/local/lib/python3.12/dist-packages/langchain_nvidia_ai_endpoints/chat_models.py:715: UserWarning: Model 'nvidia/nvidia-nemotron-nano-9b-v2' is not known to support tools. Your tool binding may fail at inference time.\n",
            "  warnings.warn(\n"
          ]
        }
      ],
      "source": [
        "from langgraph.prebuilt import create_react_agent\n",
        "#Agents\n",
        "agent = create_react_agent(\n",
        "    model=llm,\n",
        "    tools=[search_tool],\n",
        ")"
      ]
    },
    {
      "cell_type": "code",
      "execution_count": null,
      "id": "wbcXKi990c-J",
      "metadata": {
        "id": "wbcXKi990c-J"
      },
      "outputs": [],
      "source": [
        "final_state = agent.invoke({\n",
        "    \"messages\": [\n",
        "        {\"role\": \"user\", \"content\": \"What is the current stock price of Apple?\"}\n",
        "    ]\n",
        "})"
      ]
    },
    {
      "cell_type": "code",
      "execution_count": null,
      "id": "xmzv5P__NNRU",
      "metadata": {
        "colab": {
          "base_uri": "https://localhost:8080/"
        },
        "id": "xmzv5P__NNRU",
        "outputId": "a2bb3eb3-7535-4b5d-cd4a-c3fc98f81269"
      },
      "outputs": [
        {
          "name": "stdout",
          "output_type": "stream",
          "text": [
            "content='What is the current stock price of Apple?' additional_kwargs={} response_metadata={} id='8dea113d-38e3-4538-8210-805f223d8830'\n",
            "content='' additional_kwargs={'reasoning_content': 'Okay, the user is asking for the current stock price of Apple. Let me think about how to approach this. I need to use the tools provided to get the most accurate and up-to-date information. The available tool is tavily_search, which is a search engine optimized for current events and can retrieve real-time data.\\n\\nFirst, I should structure the search query. The user wants the stock price, so the query should be something like \"current stock price of Apple\". That\\'s straightforward. Now, considering the parameters for tavily_search. Since stock prices are financial information, I should set the topic to \"finance\" to get more relevant results. \\n\\nAlso, stock prices change rapidly, so time sensitivity is important. The user is asking for the \"current\" price, which implies they want the latest data. The time_range parameter can be set to \"day\" to ensure the results are from today. However, I should check if the time_range is necessary here. The default for time_range is None, but since the user is asking for current prices, including a time_range of \"day\" might help in getting the most recent data. \\n\\nAnother thing to consider is domains. The user didn\\'t specify any particular website, but financial stock prices are often found on financial news sites or stock market platforms. However, since the user didn\\'t restrict domains, maybe it\\'s better not to include include_domains unless necessary. Excluding domains might not be needed here either. \\n\\nThe search_depth should be \"advanced\" because stock prices require precise and up-to-date information. Basic might not suffice. Also, include_images is probably not needed here since the user is asking for a stock price, which is numerical data. \\n\\nWait, but sometimes stock price information might be presented with charts or images, but the user just needs the current price. So maybe images aren\\'t necessary. \\n\\nSo putting it all together, the function call should be tavily_search with the query \"current stock price of Apple\", topic set to \"finance\", and time_range as \"day\". That should fetch the latest stock price from reliable financial sources. \\n\\nI should also check if there are any other parameters that might be useful. For example, start_date and end_date could be used to narrow down the date range, but since the user wants the current price, setting time_range to \"day\" should cover it. \\n\\nAnother consideration: sometimes stock prices are delayed by a few minutes, but the search engine should pick up the latest available data. \\n\\nTherefore, the tool call should include the query, topic as finance, and time_range as day. That should give the user the most accurate current stock price for Apple.', 'tool_calls': [{'id': 'ZUX7Saj0Y', 'type': 'function', 'function': {'name': 'tavily_search', 'arguments': '{\"time_range\": \"day\", \"topic\": \"finance\", \"query\": \"current stock price of Apple\"}'}}]} response_metadata={'role': 'assistant', 'reasoning_content': 'Okay, the user is asking for the current stock price of Apple. Let me think about how to approach this. I need to use the tools provided to get the most accurate and up-to-date information. The available tool is tavily_search, which is a search engine optimized for current events and can retrieve real-time data.\\n\\nFirst, I should structure the search query. The user wants the stock price, so the query should be something like \"current stock price of Apple\". That\\'s straightforward. Now, considering the parameters for tavily_search. Since stock prices are financial information, I should set the topic to \"finance\" to get more relevant results. \\n\\nAlso, stock prices change rapidly, so time sensitivity is important. The user is asking for the \"current\" price, which implies they want the latest data. The time_range parameter can be set to \"day\" to ensure the results are from today. However, I should check if the time_range is necessary here. The default for time_range is None, but since the user is asking for current prices, including a time_range of \"day\" might help in getting the most recent data. \\n\\nAnother thing to consider is domains. The user didn\\'t specify any particular website, but financial stock prices are often found on financial news sites or stock market platforms. However, since the user didn\\'t restrict domains, maybe it\\'s better not to include include_domains unless necessary. Excluding domains might not be needed here either. \\n\\nThe search_depth should be \"advanced\" because stock prices require precise and up-to-date information. Basic might not suffice. Also, include_images is probably not needed here since the user is asking for a stock price, which is numerical data. \\n\\nWait, but sometimes stock price information might be presented with charts or images, but the user just needs the current price. So maybe images aren\\'t necessary. \\n\\nSo putting it all together, the function call should be tavily_search with the query \"current stock price of Apple\", topic set to \"finance\", and time_range as \"day\". That should fetch the latest stock price from reliable financial sources. \\n\\nI should also check if there are any other parameters that might be useful. For example, start_date and end_date could be used to narrow down the date range, but since the user wants the current price, setting time_range to \"day\" should cover it. \\n\\nAnother consideration: sometimes stock prices are delayed by a few minutes, but the search engine should pick up the latest available data. \\n\\nTherefore, the tool call should include the query, topic as finance, and time_range as day. That should give the user the most accurate current stock price for Apple.', 'content': None, 'tool_calls': [{'id': 'ZUX7Saj0Y', 'type': 'function', 'function': {'name': 'tavily_search', 'arguments': '{\"time_range\": \"day\", \"topic\": \"finance\", \"query\": \"current stock price of Apple\"}'}}], 'token_usage': {'prompt_tokens': 1956, 'total_tokens': 2562, 'completion_tokens': 606, 'prompt_tokens_details': None}, 'finish_reason': 'tool_calls', 'model_name': 'nvidia/nvidia-nemotron-nano-9b-v2'} id='run--ddb1a417-061b-40d8-8826-a01425ef63dc-0' tool_calls=[{'name': 'tavily_search', 'args': {'time_range': 'day', 'topic': 'finance', 'query': 'current stock price of Apple'}, 'id': 'ZUX7Saj0Y', 'type': 'tool_call'}] usage_metadata={'input_tokens': 1956, 'output_tokens': 606, 'total_tokens': 2562} role='assistant'\n",
            "content='{\"query\": \"current stock price of Apple\", \"follow_up_questions\": null, \"answer\": null, \"images\": [], \"results\": [{\"title\": \"Financial Analysis for AAPL\", \"url\": \"https://finance.yahoo.com/quote/AAPL/\", \"content\": \"Stock: AAPL\\\\nFinancial Analysis:\\\\nLatest Open Price: 254.10 Latest Close Price: 255.46 Highest Close Price: 258.10 Lowest Close Price: 163.82 Average Close Price (2 years): 207.69 Standard Deviation of Close Price: 24.07 Volume Traded (2 years): 28468468300 Total Return (2 years): 51.36% Annualized Return (2 years): 23.03% CAGR (2 years): 23.03% Sharpe Ratio (2 years): 0.96 Max Drawdown (2 years): 0.09% \", \"score\": 0.98947, \"raw_content\": null}, {\"url\": \"https://www.wsj.com/market-data/quotes/index/US/DOW%20JONES%20GLOBAL/DJIA\", \"title\": \"DJIA.US | Dow Jones Industrial Average Stock Prices and ...\", \"content\": \"AAPL · Apple Inc. 255.46, -1.41, -0.55%. KO · Coca-Cola Co. 65.67, -0.31, -0.47%. UNH · UnitedHealth Group Inc. 344.08, -1.48, -0.43%. CVX · Chevron Corp.\", \"score\": 0.5232017, \"raw_content\": null}, {\"url\": \"https://ca.finance.yahoo.com/quote/TSLA/\", \"title\": \"Tesla, Inc. (TSLA) Stock Price, News, Quote & History\", \"content\": \"AAPL Apple Inc. 255.46. -0.55%. AMZN Amazon.com, Inc. 219.78. +0.75%. META Meta Platforms, Inc. 743.75. -0.69%. GOOG Alphabet Inc. 247.18. +0.25%. NVDA NVIDIA\", \"score\": 0.40613216, \"raw_content\": null}], \"response_time\": 1.61, \"request_id\": \"71b8358f-7b6c-4123-ae60-d15efe11013f\"}' name='tavily_search' id='f63b8523-72ee-4785-bbc4-1bc1dafb9c8b' tool_call_id='ZUX7Saj0Y'\n",
            "content=\"The current stock price of Apple (AAPL) is **$255.46**, as reported by multiple financial sources. This reflects a slight decrease of **-0.55%** in the latest trading session. \\n\\nLet me know if you'd like additional details like real-time updates or historical performance!\" additional_kwargs={'reasoning_content': 'Okay, let\\'s see. The user asked for the current stock price of Apple. I used the tavily_search tool with the finance topic and a day time range. The results came back with three entries.\\n\\nLooking at the first result from Yahoo Finance, it shows the latest close price as 255.46. The second result from WSJ also mentions AAPL at 255.46 with a -0.55% change. The third one from Yahoo again lists AAPL at 255.46. All three sources agree on the price. \\n\\nI should confirm that this is the most recent data. Since the time range was set to \"day,\" it should be up-to-date. The answer seems consistent across multiple reliable sources. The user probably just needs the current price, so I\\'ll present 255.46 as the latest closing price. Also, note the slight decrease of -0.55% if they want to know the trend. \\n\\nNo conflicting information here, so I can confidently provide the answer.'} response_metadata={'role': 'assistant', 'reasoning_content': 'Okay, let\\'s see. The user asked for the current stock price of Apple. I used the tavily_search tool with the finance topic and a day time range. The results came back with three entries.\\n\\nLooking at the first result from Yahoo Finance, it shows the latest close price as 255.46. The second result from WSJ also mentions AAPL at 255.46 with a -0.55% change. The third one from Yahoo again lists AAPL at 255.46. All three sources agree on the price. \\n\\nI should confirm that this is the most recent data. Since the time range was set to \"day,\" it should be up-to-date. The answer seems consistent across multiple reliable sources. The user probably just needs the current price, so I\\'ll present 255.46 as the latest closing price. Also, note the slight decrease of -0.55% if they want to know the trend. \\n\\nNo conflicting information here, so I can confidently provide the answer.', 'content': \"The current stock price of Apple (AAPL) is **$255.46**, as reported by multiple financial sources. This reflects a slight decrease of **-0.55%** in the latest trading session. \\n\\nLet me know if you'd like additional details like real-time updates or historical performance!\", 'tool_calls': [], 'token_usage': {'prompt_tokens': 2647, 'total_tokens': 2940, 'completion_tokens': 293, 'prompt_tokens_details': None}, 'finish_reason': 'stop', 'model_name': 'nvidia/nvidia-nemotron-nano-9b-v2'} id='run--a7d1990a-f00b-4a01-a2d7-f94c146b9044-0' usage_metadata={'input_tokens': 2647, 'output_tokens': 293, 'total_tokens': 2940} role='assistant'\n"
          ]
        }
      ],
      "source": [
        "\n",
        "# print(final_state[\"messages\"])\n",
        "for i in final_state[\"messages\"]:\n",
        "  print(i)"
      ]
    }
  ],
  "metadata": {
    "colab": {
      "provenance": []
    },
    "kernelspec": {
      "display_name": "Python 3 (ipykernel)",
      "language": "python",
      "name": "python3"
    },
    "language_info": {
      "codemirror_mode": {
        "name": "ipython",
        "version": 3
      },
      "file_extension": ".py",
      "mimetype": "text/x-python",
      "name": "python",
      "nbconvert_exporter": "python",
      "pygments_lexer": "ipython3",
      "version": "3.13.7"
    }
  },
  "nbformat": 4,
  "nbformat_minor": 5
}
